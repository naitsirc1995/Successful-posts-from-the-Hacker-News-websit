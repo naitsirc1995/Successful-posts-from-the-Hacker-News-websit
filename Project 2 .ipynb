{
 "cells": [
  {
   "cell_type": "markdown",
   "metadata": {},
   "source": [
    "# Successful posts from the Hacker News websit\n",
    "The website [Hacker News](https://news.ycombinator.com) receives posts from its users, those posts will be up or down voted by the comunity, as a result posts with a high amount of votes will receive a lot of traffic. There are two type of submissions, a `Ask HN` or  `Show HN`, `Ask HN` are submissions where the users ask a question for example *How can I atract more traffic to my website?* , `Show HN` is a submission where users show something. We will analyze a data set of the user's submissions and answer to two questions. \n",
    "1. Do `Ask HN` or `Show HN`  receive more comments on average ?\n",
    "2. Do posts created at a certain time receive more commentes on average ?\n",
    "\n",
    "We will begin by opening the file and exploring the first five rows of the file. "
   ]
  },
  {
   "cell_type": "code",
   "execution_count": 2,
   "metadata": {},
   "outputs": [
    {
     "name": "stdout",
     "output_type": "stream",
     "text": [
      "['id', 'title', 'url', 'num_points', 'num_comments', 'author', 'created_at']\n",
      "\n",
      "\n",
      "['12224879', 'Interactive Dynamic Video', 'http://www.interactivedynamicvideo.com/', '386', '52', 'ne0phyte', '8/4/2016 11:52']\n",
      "\n",
      "\n",
      "['10975351', 'How to Use Open Source and Shut the Fuck Up at the Same Time', 'http://hueniverse.com/2016/01/26/how-to-use-open-source-and-shut-the-fuck-up-at-the-same-time/', '39', '10', 'josep2', '1/26/2016 19:30']\n",
      "\n",
      "\n",
      "['11964716', \"Florida DJs May Face Felony for April Fools' Water Joke\", 'http://www.thewire.com/entertainment/2013/04/florida-djs-april-fools-water-joke/63798/', '2', '1', 'vezycash', '6/23/2016 22:20']\n",
      "\n",
      "\n",
      "['11919867', 'Technology ventures: From Idea to Enterprise', 'https://www.amazon.com/Technology-Ventures-Enterprise-Thomas-Byers/dp/0073523429', '3', '1', 'hswarna', '6/17/2016 0:01']\n",
      "\n",
      "\n"
     ]
    }
   ],
   "source": [
    "import csv\n",
    "f=open('hacker_news.csv')\n",
    "hn=list(csv.reader(f))\n",
    "for i in list(range(0,5)):\n",
    "    print(hn[i])\n",
    "    print('\\n')"
   ]
  },
  {
   "cell_type": "markdown",
   "metadata": {},
   "source": [
    "The first thing that we see is that our data set's first row is the header thus we will remove it using the following code. "
   ]
  },
  {
   "cell_type": "code",
   "execution_count": 3,
   "metadata": {},
   "outputs": [
    {
     "name": "stdout",
     "output_type": "stream",
     "text": [
      "['id', 'title', 'url', 'num_points', 'num_comments', 'author', 'created_at']\n",
      "\n",
      "\n",
      "['12224879', 'Interactive Dynamic Video', 'http://www.interactivedynamicvideo.com/', '386', '52', 'ne0phyte', '8/4/2016 11:52']\n",
      "\n",
      "\n",
      "['10975351', 'How to Use Open Source and Shut the Fuck Up at the Same Time', 'http://hueniverse.com/2016/01/26/how-to-use-open-source-and-shut-the-fuck-up-at-the-same-time/', '39', '10', 'josep2', '1/26/2016 19:30']\n",
      "\n",
      "\n",
      "['11964716', \"Florida DJs May Face Felony for April Fools' Water Joke\", 'http://www.thewire.com/entertainment/2013/04/florida-djs-april-fools-water-joke/63798/', '2', '1', 'vezycash', '6/23/2016 22:20']\n",
      "\n",
      "\n",
      "['11919867', 'Technology ventures: From Idea to Enterprise', 'https://www.amazon.com/Technology-Ventures-Enterprise-Thomas-Byers/dp/0073523429', '3', '1', 'hswarna', '6/17/2016 0:01']\n",
      "\n",
      "\n",
      "['10301696', 'Note by Note: The Making of Steinway L1037 (2007)', 'http://www.nytimes.com/2007/11/07/movies/07stein.html?_r=0', '8', '2', 'walterbell', '9/30/2015 4:12']\n",
      "\n",
      "\n"
     ]
    }
   ],
   "source": [
    "headers=hn[0]\n",
    "hn=hn[1:]\n",
    "print(headers)\n",
    "print('\\n')\n",
    "for i in list(range(0,5)):\n",
    "    print(hn[i])\n",
    "    print('\\n')"
   ]
  },
  {
   "cell_type": "markdown",
   "metadata": {},
   "source": [
    "We will first filter the information and add it to three different lists, `ask_posts` , `show_posts`,`other_posts` , and then display the first rows of the resulting lists to verify our code was correct. For that we will use the following code. "
   ]
  },
  {
   "cell_type": "code",
   "execution_count": 4,
   "metadata": {},
   "outputs": [
    {
     "name": "stdout",
     "output_type": "stream",
     "text": [
      "['12296411', 'Ask HN: How to improve my personal website?', '', '2', '6', 'ahmedbaracat', '8/16/2016 9:55']\n",
      "\n",
      "\n",
      "['10610020', 'Ask HN: Am I the only one outraged by Twitter shutting down share counts?', '', '28', '29', 'tkfx', '11/22/2015 13:43']\n",
      "\n",
      "\n",
      "['11610310', 'Ask HN: Aby recent changes to CSS that broke mobile?', '', '1', '1', 'polskibus', '5/2/2016 10:14']\n",
      "\n",
      "\n",
      "['12210105', 'Ask HN: Looking for Employee #3 How do I do it?', '', '1', '3', 'sph130', '8/2/2016 14:20']\n",
      "\n",
      "\n",
      "['10627194', 'Show HN: Wio Link  ESP8266 Based Web of Things Hardware Development Platform', 'https://iot.seeed.cc', '26', '22', 'kfihihc', '11/25/2015 14:03']\n",
      "\n",
      "\n",
      "['10646440', 'Show HN: Something pointless I made', 'http://dn.ht/picklecat/', '747', '102', 'dhotson', '11/29/2015 22:46']\n",
      "\n",
      "\n",
      "['11590768', 'Show HN: Shanhu.io, a programming playground powered by e8vm', 'https://shanhu.io', '1', '1', 'h8liu', '4/28/2016 18:05']\n",
      "\n",
      "\n",
      "['12178806', 'Show HN: Webscope  Easy way for web developers to communicate with Clients', 'http://webscopeapp.com', '3', '3', 'fastbrick', '7/28/2016 7:11']\n",
      "\n",
      "\n",
      "['12224879', 'Interactive Dynamic Video', 'http://www.interactivedynamicvideo.com/', '386', '52', 'ne0phyte', '8/4/2016 11:52']\n",
      "\n",
      "\n",
      "['10975351', 'How to Use Open Source and Shut the Fuck Up at the Same Time', 'http://hueniverse.com/2016/01/26/how-to-use-open-source-and-shut-the-fuck-up-at-the-same-time/', '39', '10', 'josep2', '1/26/2016 19:30']\n",
      "\n",
      "\n",
      "['11964716', \"Florida DJs May Face Felony for April Fools' Water Joke\", 'http://www.thewire.com/entertainment/2013/04/florida-djs-april-fools-water-joke/63798/', '2', '1', 'vezycash', '6/23/2016 22:20']\n",
      "\n",
      "\n",
      "['11919867', 'Technology ventures: From Idea to Enterprise', 'https://www.amazon.com/Technology-Ventures-Enterprise-Thomas-Byers/dp/0073523429', '3', '1', 'hswarna', '6/17/2016 0:01']\n",
      "\n",
      "\n"
     ]
    }
   ],
   "source": [
    "ask_posts=[]\n",
    "show_posts=[]\n",
    "other_posts=[]\n",
    "for row in hn:\n",
    "    title=row[1]\n",
    "    if title.lower().startswith('ask hn'):\n",
    "        ask_posts.append(row)\n",
    "    elif title.lower().startswith('show hn'):\n",
    "        show_posts.append(row)\n",
    "    else:\n",
    "        other_posts.append(row)\n",
    "for i in list(range(0,4)):\n",
    "    print(ask_posts[i])\n",
    "    print('\\n')\n",
    "for i in list(range(0,4)):\n",
    "    print(show_posts[i])\n",
    "    print('\\n')    \n",
    "for i in list(range(0,4)):\n",
    "    print(other_posts[i])\n",
    "    print('\\n')       "
   ]
  },
  {
   "cell_type": "markdown",
   "metadata": {},
   "source": [
    "Now, let's check the number of posts of each category."
   ]
  },
  {
   "cell_type": "code",
   "execution_count": 5,
   "metadata": {},
   "outputs": [
    {
     "name": "stdout",
     "output_type": "stream",
     "text": [
      "In total there are 1744 ask posts\n",
      "\n",
      "\n",
      "In total there are 1162 show posts\n",
      "\n",
      "\n",
      "In total there are 17194 other posts\n"
     ]
    }
   ],
   "source": [
    "print('In total there are',len(ask_posts), 'ask posts')\n",
    "print('\\n')\n",
    "print('In total there are',len(show_posts),'show posts')\n",
    "print('\\n')\n",
    "print('In total there are',len(other_posts),'other posts')"
   ]
  },
  {
   "cell_type": "markdown",
   "metadata": {},
   "source": [
    "# Determining average number of comments for AskPosts or ShowPosts "
   ]
  },
  {
   "cell_type": "code",
   "execution_count": 6,
   "metadata": {},
   "outputs": [],
   "source": [
    "total_ask_comments=0\n",
    "total_show_comments=0\n",
    "total_other_comments=0\n",
    "for row in ask_posts:\n",
    "    total_ask_comments+=int(row[4])\n",
    "for row in show_posts:\n",
    "    total_show_comments+=int(row[4])\n",
    "for row in other_posts:\n",
    "    total_other_comments+=int(row[4])"
   ]
  },
  {
   "cell_type": "code",
   "execution_count": 7,
   "metadata": {},
   "outputs": [
    {
     "name": "stdout",
     "output_type": "stream",
     "text": [
      "Every ask post receives about 14.038417431192661 comments in average\n",
      "\n",
      "\n",
      "Every show post receives about 10.31669535283993 comments average\n"
     ]
    }
   ],
   "source": [
    "avg_ask_comments=total_ask_comments/len(ask_posts)\n",
    "avg_show_comments=total_show_comments/len(show_posts)\n",
    "print('Every ask post receives about',avg_ask_comments,'comments in average')    \n",
    "print('\\n')\n",
    "print('Every show post receives about',avg_show_comments,'comments average')"
   ]
  },
  {
   "cell_type": "markdown",
   "metadata": {},
   "source": [
    "Since an ask post on average receives 14 comments and a show post receives on average 10 comments we will focus mainly on ask posts from now on. "
   ]
  },
  {
   "cell_type": "markdown",
   "metadata": {},
   "source": [
    "# Relation between asks posts and posting hours "
   ]
  },
  {
   "cell_type": "markdown",
   "metadata": {},
   "source": [
    "Based on the results from the previous code we will prioratize *ask posts* and from now we will understand the relation between the posting hours and the number of comments received by doing the following. \n",
    "1. Calculate the amount of posts created along with the hour of the day and the total amount of comments received. \n",
    "2. Find the average of comments received per hour. "
   ]
  },
  {
   "cell_type": "code",
   "execution_count": 8,
   "metadata": {},
   "outputs": [],
   "source": [
    "import datetime as dt\n",
    "result_list=[]\n",
    "for row in ask_posts:\n",
    "    result_list.append([row[6],int(row[4])])    "
   ]
  },
  {
   "cell_type": "code",
   "execution_count": 9,
   "metadata": {},
   "outputs": [],
   "source": [
    "counts_by_hour={}\n",
    "comments_by_hour={}\n",
    "for row in result_list:\n",
    "    date=row[0]\n",
    "    comment=row[1]\n",
    "    time=dt.datetime.strptime(date,'%m/%d/%Y %H:%M').strftime('%H')\n",
    "    if time not in counts_by_hour:\n",
    "        counts_by_hour[time]=1\n",
    "        comments_by_hour[time]=comment\n",
    "    else:\n",
    "        counts_by_hour[time]+=1\n",
    "        comments_by_hour[time]+=comment               "
   ]
  },
  {
   "cell_type": "markdown",
   "metadata": {},
   "source": [
    "We will use those two lists we just created in order to find the average posts posted by hour. "
   ]
  },
  {
   "cell_type": "code",
   "execution_count": 17,
   "metadata": {},
   "outputs": [
    {
     "name": "stdout",
     "output_type": "stream",
     "text": [
      "['09', 5.5777777777777775]\n",
      "\n",
      "\n",
      "['13', 14.741176470588234]\n",
      "\n",
      "\n",
      "['10', 13.440677966101696]\n",
      "\n",
      "\n",
      "['14', 13.233644859813085]\n",
      "\n",
      "\n",
      "['16', 16.796296296296298]\n",
      "\n",
      "\n",
      "['23', 7.985294117647059]\n",
      "\n",
      "\n",
      "['12', 9.41095890410959]\n",
      "\n",
      "\n",
      "['17', 11.46]\n",
      "\n",
      "\n",
      "['15', 38.5948275862069]\n",
      "\n",
      "\n",
      "['21', 16.009174311926607]\n",
      "\n",
      "\n",
      "['20', 21.525]\n",
      "\n",
      "\n",
      "['02', 23.810344827586206]\n",
      "\n",
      "\n",
      "['18', 13.20183486238532]\n",
      "\n",
      "\n",
      "['03', 7.796296296296297]\n",
      "\n",
      "\n",
      "['05', 10.08695652173913]\n",
      "\n",
      "\n",
      "['19', 10.8]\n",
      "\n",
      "\n",
      "['01', 11.383333333333333]\n",
      "\n",
      "\n",
      "['22', 6.746478873239437]\n",
      "\n",
      "\n",
      "['08', 10.25]\n",
      "\n",
      "\n",
      "['04', 7.170212765957447]\n",
      "\n",
      "\n",
      "['00', 8.127272727272727]\n",
      "\n",
      "\n",
      "['06', 9.022727272727273]\n",
      "\n",
      "\n",
      "['07', 7.852941176470588]\n",
      "\n",
      "\n",
      "['11', 11.051724137931034]\n",
      "\n",
      "\n"
     ]
    }
   ],
   "source": [
    "avg_by_hour=[]\n",
    "for time in comments_by_hour:\n",
    "    avg_comments=comments_by_hour[time]/counts_by_hour[time]\n",
    "    avg_by_hour.append([time,avg_comments])\n",
    "for row in avg_by_hour:\n",
    "    print(row)\n",
    "    print('\\n')    "
   ]
  },
  {
   "cell_type": "markdown",
   "metadata": {},
   "source": [
    "From the previous code we already have the information we needed, but now we will present it in an easier to read way, which means that we will sort that information to obtain a list from highest to lowest. "
   ]
  },
  {
   "cell_type": "code",
   "execution_count": 34,
   "metadata": {},
   "outputs": [
    {
     "name": "stdout",
     "output_type": "stream",
     "text": [
      "Top 5 hours for posting\n",
      "\n",
      "\n",
      "15:00,38.59, average comments per post\n",
      "\n",
      "\n",
      "02:00,23.81, average comments per post\n",
      "\n",
      "\n",
      "20:00,21.52, average comments per post\n",
      "\n",
      "\n",
      "16:00,16.80, average comments per post\n",
      "\n",
      "\n",
      "21:00,16.01, average comments per post\n",
      "\n",
      "\n"
     ]
    }
   ],
   "source": [
    "swap_avg_by_hour=[]\n",
    "for row in avg_by_hour:\n",
    "    swap_avg_by_hour.append([row[1],row[0]])\n",
    "sorted_swap=sorted(swap_avg_by_hour, reverse = True)    \n",
    "print('Top 5 hours for posting')\n",
    "print('\\n')\n",
    "for avg,hour in sorted_swap[:5]:\n",
    "    print(\"{},{:.2f}, average comments per post\".format(\n",
    "    dt.datetime.strptime(hour,'%H').strftime('%H:%M'),avg\n",
    "    ))\n",
    "    print('\\n')\n",
    "    \n",
    "    "
   ]
  },
  {
   "cell_type": "markdown",
   "metadata": {},
   "source": [
    "# Conclusion\n",
    "After our analysis, we could conclude that. \n",
    "1. `Ask HN` questions are more likely to be commented\n",
    "2. The best time to post is at 15:00 by a wide margin. "
   ]
  },
  {
   "cell_type": "code",
   "execution_count": null,
   "metadata": {},
   "outputs": [],
   "source": []
  }
 ],
 "metadata": {
  "kernelspec": {
   "display_name": "Python 3",
   "language": "python",
   "name": "python3"
  },
  "language_info": {
   "codemirror_mode": {
    "name": "ipython",
    "version": 3
   },
   "file_extension": ".py",
   "mimetype": "text/x-python",
   "name": "python",
   "nbconvert_exporter": "python",
   "pygments_lexer": "ipython3",
   "version": "3.7.3"
  }
 },
 "nbformat": 4,
 "nbformat_minor": 2
}
